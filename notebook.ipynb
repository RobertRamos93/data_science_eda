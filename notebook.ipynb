{
 "cells": [
  {
   "cell_type": "markdown",
   "id": "5d54fdbb",
   "metadata": {},
   "source": [
    "# Dependencies / Imports"
   ]
  },
  {
   "cell_type": "code",
   "execution_count": 1,
   "id": "8b7b50bd",
   "metadata": {},
   "outputs": [],
   "source": [
    "import pandas as pd\n",
    "import matplotlib.pyplot as plt\n",
    "import seaborn as sns"
   ]
  },
  {
   "cell_type": "markdown",
   "id": "3393d968",
   "metadata": {},
   "source": [
    "# DataFrame creation"
   ]
  },
  {
   "cell_type": "code",
   "execution_count": 2,
   "id": "00ecbd36",
   "metadata": {},
   "outputs": [],
   "source": [
    "df = pd.read_csv(\"C:/Users/rerr_/OneDrive/Desktop/portafolio/data_science_eda/data/dirty_cafe_sales.csv\")"
   ]
  },
  {
   "cell_type": "markdown",
   "id": "4d4102fa",
   "metadata": {},
   "source": [
    "# Exploring data"
   ]
  },
  {
   "cell_type": "code",
   "execution_count": 3,
   "id": "2c627763",
   "metadata": {},
   "outputs": [
    {
     "data": {
      "text/plain": [
       "(10000, 8)"
      ]
     },
     "execution_count": 3,
     "metadata": {},
     "output_type": "execute_result"
    }
   ],
   "source": [
    "# DataFrame shape (rows, columns)\n",
    "df.shape"
   ]
  },
  {
   "cell_type": "code",
   "execution_count": 4,
   "id": "af08772d",
   "metadata": {},
   "outputs": [
    {
     "data": {
      "text/html": [
       "<div>\n",
       "<style scoped>\n",
       "    .dataframe tbody tr th:only-of-type {\n",
       "        vertical-align: middle;\n",
       "    }\n",
       "\n",
       "    .dataframe tbody tr th {\n",
       "        vertical-align: top;\n",
       "    }\n",
       "\n",
       "    .dataframe thead th {\n",
       "        text-align: right;\n",
       "    }\n",
       "</style>\n",
       "<table border=\"1\" class=\"dataframe\">\n",
       "  <thead>\n",
       "    <tr style=\"text-align: right;\">\n",
       "      <th></th>\n",
       "      <th>Transaction ID</th>\n",
       "      <th>Item</th>\n",
       "      <th>Quantity</th>\n",
       "      <th>Price Per Unit</th>\n",
       "      <th>Total Spent</th>\n",
       "      <th>Payment Method</th>\n",
       "      <th>Location</th>\n",
       "      <th>Transaction Date</th>\n",
       "    </tr>\n",
       "  </thead>\n",
       "  <tbody>\n",
       "    <tr>\n",
       "      <th>0</th>\n",
       "      <td>TXN_1961373</td>\n",
       "      <td>Coffee</td>\n",
       "      <td>2</td>\n",
       "      <td>2.0</td>\n",
       "      <td>4.0</td>\n",
       "      <td>Credit Card</td>\n",
       "      <td>Takeaway</td>\n",
       "      <td>2023-09-08</td>\n",
       "    </tr>\n",
       "    <tr>\n",
       "      <th>1</th>\n",
       "      <td>TXN_4977031</td>\n",
       "      <td>Cake</td>\n",
       "      <td>4</td>\n",
       "      <td>3.0</td>\n",
       "      <td>12.0</td>\n",
       "      <td>Cash</td>\n",
       "      <td>In-store</td>\n",
       "      <td>2023-05-16</td>\n",
       "    </tr>\n",
       "    <tr>\n",
       "      <th>2</th>\n",
       "      <td>TXN_4271903</td>\n",
       "      <td>Cookie</td>\n",
       "      <td>4</td>\n",
       "      <td>1.0</td>\n",
       "      <td>ERROR</td>\n",
       "      <td>Credit Card</td>\n",
       "      <td>In-store</td>\n",
       "      <td>2023-07-19</td>\n",
       "    </tr>\n",
       "    <tr>\n",
       "      <th>3</th>\n",
       "      <td>TXN_7034554</td>\n",
       "      <td>Salad</td>\n",
       "      <td>2</td>\n",
       "      <td>5.0</td>\n",
       "      <td>10.0</td>\n",
       "      <td>UNKNOWN</td>\n",
       "      <td>UNKNOWN</td>\n",
       "      <td>2023-04-27</td>\n",
       "    </tr>\n",
       "    <tr>\n",
       "      <th>4</th>\n",
       "      <td>TXN_3160411</td>\n",
       "      <td>Coffee</td>\n",
       "      <td>2</td>\n",
       "      <td>2.0</td>\n",
       "      <td>4.0</td>\n",
       "      <td>Digital Wallet</td>\n",
       "      <td>In-store</td>\n",
       "      <td>2023-06-11</td>\n",
       "    </tr>\n",
       "  </tbody>\n",
       "</table>\n",
       "</div>"
      ],
      "text/plain": [
       "  Transaction ID    Item Quantity Price Per Unit Total Spent  Payment Method  \\\n",
       "0    TXN_1961373  Coffee        2            2.0         4.0     Credit Card   \n",
       "1    TXN_4977031    Cake        4            3.0        12.0            Cash   \n",
       "2    TXN_4271903  Cookie        4            1.0       ERROR     Credit Card   \n",
       "3    TXN_7034554   Salad        2            5.0        10.0         UNKNOWN   \n",
       "4    TXN_3160411  Coffee        2            2.0         4.0  Digital Wallet   \n",
       "\n",
       "   Location Transaction Date  \n",
       "0  Takeaway       2023-09-08  \n",
       "1  In-store       2023-05-16  \n",
       "2  In-store       2023-07-19  \n",
       "3   UNKNOWN       2023-04-27  \n",
       "4  In-store       2023-06-11  "
      ]
     },
     "execution_count": 4,
     "metadata": {},
     "output_type": "execute_result"
    }
   ],
   "source": [
    "# Display the first few rows of the DataFrame\n",
    "df.head()"
   ]
  },
  {
   "cell_type": "code",
   "execution_count": 5,
   "id": "9b24fbcf",
   "metadata": {},
   "outputs": [
    {
     "name": "stdout",
     "output_type": "stream",
     "text": [
      "<class 'pandas.core.frame.DataFrame'>\n",
      "RangeIndex: 10000 entries, 0 to 9999\n",
      "Data columns (total 8 columns):\n",
      " #   Column            Non-Null Count  Dtype \n",
      "---  ------            --------------  ----- \n",
      " 0   Transaction ID    10000 non-null  object\n",
      " 1   Item              9667 non-null   object\n",
      " 2   Quantity          9862 non-null   object\n",
      " 3   Price Per Unit    9821 non-null   object\n",
      " 4   Total Spent       9827 non-null   object\n",
      " 5   Payment Method    7421 non-null   object\n",
      " 6   Location          6735 non-null   object\n",
      " 7   Transaction Date  9841 non-null   object\n",
      "dtypes: object(8)\n",
      "memory usage: 625.1+ KB\n"
     ]
    }
   ],
   "source": [
    "# DataFrame summary\n",
    "df.info()"
   ]
  },
  {
   "cell_type": "code",
   "execution_count": 6,
   "id": "c0d09331",
   "metadata": {},
   "outputs": [
    {
     "data": {
      "text/plain": [
       "Index(['Transaction ID', 'Item', 'Quantity', 'Price Per Unit', 'Total Spent',\n",
       "       'Payment Method', 'Location', 'Transaction Date'],\n",
       "      dtype='object')"
      ]
     },
     "execution_count": 6,
     "metadata": {},
     "output_type": "execute_result"
    }
   ],
   "source": [
    "# Column names\n",
    "df.columns"
   ]
  },
  {
   "cell_type": "code",
   "execution_count": 7,
   "id": "39aa156a",
   "metadata": {},
   "outputs": [
    {
     "data": {
      "text/plain": [
       "Transaction ID      object\n",
       "Item                object\n",
       "Quantity            object\n",
       "Price Per Unit      object\n",
       "Total Spent         object\n",
       "Payment Method      object\n",
       "Location            object\n",
       "Transaction Date    object\n",
       "dtype: object"
      ]
     },
     "execution_count": 7,
     "metadata": {},
     "output_type": "execute_result"
    }
   ],
   "source": [
    "# Data types of each column\n",
    "df.dtypes"
   ]
  },
  {
   "cell_type": "code",
   "execution_count": 8,
   "id": "b2415297",
   "metadata": {},
   "outputs": [
    {
     "data": {
      "text/html": [
       "<div>\n",
       "<style scoped>\n",
       "    .dataframe tbody tr th:only-of-type {\n",
       "        vertical-align: middle;\n",
       "    }\n",
       "\n",
       "    .dataframe tbody tr th {\n",
       "        vertical-align: top;\n",
       "    }\n",
       "\n",
       "    .dataframe thead th {\n",
       "        text-align: right;\n",
       "    }\n",
       "</style>\n",
       "<table border=\"1\" class=\"dataframe\">\n",
       "  <thead>\n",
       "    <tr style=\"text-align: right;\">\n",
       "      <th></th>\n",
       "      <th>Transaction ID</th>\n",
       "      <th>Item</th>\n",
       "      <th>Quantity</th>\n",
       "      <th>Price Per Unit</th>\n",
       "      <th>Total Spent</th>\n",
       "      <th>Payment Method</th>\n",
       "      <th>Location</th>\n",
       "      <th>Transaction Date</th>\n",
       "    </tr>\n",
       "  </thead>\n",
       "  <tbody>\n",
       "    <tr>\n",
       "      <th>count</th>\n",
       "      <td>10000</td>\n",
       "      <td>9667</td>\n",
       "      <td>9862</td>\n",
       "      <td>9821</td>\n",
       "      <td>9827</td>\n",
       "      <td>7421</td>\n",
       "      <td>6735</td>\n",
       "      <td>9841</td>\n",
       "    </tr>\n",
       "    <tr>\n",
       "      <th>unique</th>\n",
       "      <td>10000</td>\n",
       "      <td>10</td>\n",
       "      <td>7</td>\n",
       "      <td>8</td>\n",
       "      <td>19</td>\n",
       "      <td>5</td>\n",
       "      <td>4</td>\n",
       "      <td>367</td>\n",
       "    </tr>\n",
       "    <tr>\n",
       "      <th>top</th>\n",
       "      <td>TXN_9226047</td>\n",
       "      <td>Juice</td>\n",
       "      <td>5</td>\n",
       "      <td>3.0</td>\n",
       "      <td>6.0</td>\n",
       "      <td>Digital Wallet</td>\n",
       "      <td>Takeaway</td>\n",
       "      <td>UNKNOWN</td>\n",
       "    </tr>\n",
       "    <tr>\n",
       "      <th>freq</th>\n",
       "      <td>1</td>\n",
       "      <td>1171</td>\n",
       "      <td>2013</td>\n",
       "      <td>2429</td>\n",
       "      <td>979</td>\n",
       "      <td>2291</td>\n",
       "      <td>3022</td>\n",
       "      <td>159</td>\n",
       "    </tr>\n",
       "  </tbody>\n",
       "</table>\n",
       "</div>"
      ],
      "text/plain": [
       "       Transaction ID   Item Quantity Price Per Unit Total Spent  \\\n",
       "count           10000   9667     9862           9821        9827   \n",
       "unique          10000     10        7              8          19   \n",
       "top       TXN_9226047  Juice        5            3.0         6.0   \n",
       "freq                1   1171     2013           2429         979   \n",
       "\n",
       "        Payment Method  Location Transaction Date  \n",
       "count             7421      6735             9841  \n",
       "unique               5         4              367  \n",
       "top     Digital Wallet  Takeaway          UNKNOWN  \n",
       "freq              2291      3022              159  "
      ]
     },
     "execution_count": 8,
     "metadata": {},
     "output_type": "execute_result"
    }
   ],
   "source": [
    "# DataFrame statistics\n",
    "df.describe()"
   ]
  },
  {
   "cell_type": "code",
   "execution_count": 9,
   "id": "012ea59b",
   "metadata": {},
   "outputs": [
    {
     "data": {
      "text/plain": [
       "Transaction ID         0\n",
       "Item                 333\n",
       "Quantity             138\n",
       "Price Per Unit       179\n",
       "Total Spent          173\n",
       "Payment Method      2579\n",
       "Location            3265\n",
       "Transaction Date     159\n",
       "dtype: int64"
      ]
     },
     "execution_count": 9,
     "metadata": {},
     "output_type": "execute_result"
    }
   ],
   "source": [
    "# Check for null values\n",
    "df.isna().sum()\n"
   ]
  },
  {
   "cell_type": "markdown",
   "id": "fbd2e9f4",
   "metadata": {},
   "source": [
    "# Data cleaning"
   ]
  },
  {
   "cell_type": "markdown",
   "id": "fbcc0c1f",
   "metadata": {},
   "source": [
    "## categorical columns missing values"
   ]
  },
  {
   "cell_type": "code",
   "execution_count": 10,
   "id": "e03669ba",
   "metadata": {},
   "outputs": [
    {
     "name": "stdout",
     "output_type": "stream",
     "text": [
      "Column Item has ['Coffee' 'Cake' 'Cookie' 'Salad' 'Smoothie' 'UNKNOWN' 'Sandwich' nan\n",
      " 'ERROR' 'Juice' 'Tea'] unique values.\n",
      "\n",
      "Updated column Item has ['Coffee' 'Cake' 'Cookie' 'Salad' 'Smoothie' 'Unknown' 'Sandwich' 'Juice'\n",
      " 'Tea'] unique values.\n",
      "------------------------------------------------------------------------------------------------------------------------------------------------------\n",
      "Column Payment Method has ['Credit Card' 'Cash' 'UNKNOWN' 'Digital Wallet' 'ERROR' nan] unique values.\n",
      "\n",
      "Updated column Payment Method has ['Credit Card' 'Cash' 'Unknown' 'Digital Wallet'] unique values.\n",
      "------------------------------------------------------------------------------------------------------------------------------------------------------\n",
      "Column Location has ['Takeaway' 'In-store' 'UNKNOWN' nan 'ERROR'] unique values.\n",
      "\n",
      "Updated column Location has ['Takeaway' 'In-Store' 'Unknown'] unique values.\n",
      "------------------------------------------------------------------------------------------------------------------------------------------------------\n",
      "Column Transaction Date has ['2023-09-08' '2023-05-16' '2023-07-19' '2023-04-27' '2023-06-11'\n",
      " '2023-03-31' '2023-10-06' '2023-10-28' '2023-07-28' '2023-12-31'\n",
      " '2023-11-07' 'ERROR' '2023-05-03' '2023-06-01' '2023-03-21' '2023-11-15'\n",
      " '2023-06-10' '2023-02-24' '2023-03-25' '2023-01-15' '2023-04-04'\n",
      " '2023-03-30' '2023-12-01' '2023-09-18' '2023-06-03' '2023-12-13'\n",
      " '2023-04-20' '2023-04-10' '2023-03-11' '2023-06-02' '2023-11-06'\n",
      " '2023-08-15' '2023-10-09' '2023-05-28' '2023-07-17' '2023-04-29'\n",
      " '2023-06-08' '2023-06-29' '2023-04-17' '2023-12-22' '2023-01-10'\n",
      " '2023-10-02' '2023-02-23' '2023-03-22' '2023-11-03' '2023-03-02'\n",
      " '2023-06-26' '2023-05-02' '2023-09-05' '2023-01-08' '2023-03-15'\n",
      " '2023-11-25' '2023-12-05' '2023-03-19' '2023-06-27' '2023-04-19'\n",
      " '2023-10-07' '2023-09-30' '2023-05-27' '2023-11-18' '2023-10-20'\n",
      " '2023-10-03' '2023-10-27' '2023-04-06' '2023-01-31' '2023-12-08'\n",
      " '2023-06-19' '2023-12-14' '2023-07-16' '2023-02-22' nan '2023-06-15'\n",
      " '2023-12-09' '2023-04-18' '2023-10-29' '2023-04-30' '2023-04-02'\n",
      " '2023-05-24' '2023-03-12' '2023-08-16' '2023-09-10' '2023-03-07'\n",
      " '2023-08-07' '2023-08-20' '2023-04-15' '2023-07-25' '2023-10-30'\n",
      " '2023-12-15' '2023-02-25' '2023-04-03' '2023-10-08' '2023-12-28'\n",
      " '2023-08-30' '2023-02-03' '2023-09-12' '2023-05-04' '2023-02-21'\n",
      " 'UNKNOWN' '2023-03-16' '2023-02-06' '2023-03-29' '2023-06-18'\n",
      " '2023-09-23' '2023-01-14' '2023-09-14' '2023-09-16' '2023-04-08'\n",
      " '2023-12-19' '2023-07-14' '2023-12-12' '2023-01-05' '2023-01-23'\n",
      " '2023-02-20' '2023-12-06' '2023-05-31' '2023-08-11' '2023-09-03'\n",
      " '2023-07-11' '2023-06-06' '2023-01-18' '2023-03-23' '2023-01-04'\n",
      " '2023-06-23' '2023-08-03' '2023-07-12' '2023-11-02' '2023-07-31'\n",
      " '2023-09-19' '2023-02-09' '2023-09-04' '2023-05-21' '2023-07-02'\n",
      " '2023-07-10' '2023-11-21' '2023-12-02' '2023-03-13' '2023-08-12'\n",
      " '2023-02-16' '2023-04-11' '2023-03-26' '2023-11-01' '2023-07-22'\n",
      " '2023-07-26' '2023-02-28' '2023-01-27' '2023-01-19' '2023-04-07'\n",
      " '2023-03-20' '2023-12-27' '2023-10-26' '2023-02-18' '2023-05-15'\n",
      " '2023-12-10' '2023-04-21' '2023-02-04' '2023-11-12' '2023-08-05'\n",
      " '2023-05-10' '2023-07-15' '2023-01-11' '2023-10-01' '2023-04-26'\n",
      " '2023-08-25' '2023-03-01' '2023-11-13' '2023-07-09' '2023-05-13'\n",
      " '2023-05-18' '2023-01-17' '2023-09-22' '2023-08-22' '2023-07-27'\n",
      " '2023-12-30' '2023-12-21' '2023-09-28' '2023-11-16' '2023-04-14'\n",
      " '2023-01-03' '2023-01-12' '2023-08-31' '2023-07-07' '2023-09-15'\n",
      " '2023-10-21' '2023-09-02' '2023-08-19' '2023-01-06' '2023-10-13'\n",
      " '2023-05-29' '2023-05-22' '2023-11-23' '2023-10-15' '2023-11-14'\n",
      " '2023-11-26' '2023-12-17' '2023-05-09' '2023-10-22' '2023-06-30'\n",
      " '2023-04-25' '2023-02-19' '2023-12-11' '2023-10-12' '2023-07-04'\n",
      " '2023-01-28' '2023-10-04' '2023-02-26' '2023-10-11' '2023-02-14'\n",
      " '2023-04-28' '2023-09-06' '2023-04-23' '2023-01-22' '2023-03-10'\n",
      " '2023-01-09' '2023-12-03' '2023-08-06' '2023-12-29' '2023-02-15'\n",
      " '2023-05-25' '2023-10-31' '2023-02-27' '2023-03-03' '2023-09-27'\n",
      " '2023-08-18' '2023-12-16' '2023-06-07' '2023-05-12' '2023-07-06'\n",
      " '2023-06-20' '2023-08-09' '2023-05-14' '2023-07-18' '2023-10-10'\n",
      " '2023-02-02' '2023-08-14' '2023-09-26' '2023-01-13' '2023-10-16'\n",
      " '2023-11-17' '2023-12-20' '2023-12-04' '2023-02-08' '2023-09-11'\n",
      " '2023-02-01' '2023-02-12' '2023-03-14' '2023-09-29' '2023-04-22'\n",
      " '2023-06-13' '2023-12-24' '2023-03-28' '2023-03-06' '2023-02-11'\n",
      " '2023-01-30' '2023-04-09' '2023-04-16' '2023-12-23' '2023-03-05'\n",
      " '2023-03-24' '2023-07-23' '2023-07-29' '2023-06-05' '2023-10-19'\n",
      " '2023-01-07' '2023-11-29' '2023-07-05' '2023-07-20' '2023-05-07'\n",
      " '2023-08-10' '2023-10-24' '2023-08-13' '2023-08-28' '2023-06-21'\n",
      " '2023-11-10' '2023-10-18' '2023-05-19' '2023-11-09' '2023-06-24'\n",
      " '2023-05-11' '2023-12-07' '2023-09-01' '2023-09-25' '2023-06-22'\n",
      " '2023-05-30' '2023-04-24' '2023-09-20' '2023-02-07' '2023-05-05'\n",
      " '2023-02-10' '2023-11-24' '2023-10-25' '2023-10-05' '2023-07-21'\n",
      " '2023-07-08' '2023-03-17' '2023-10-14' '2023-06-28' '2023-09-09'\n",
      " '2023-08-21' '2023-07-01' '2023-06-14' '2023-03-09' '2023-11-08'\n",
      " '2023-12-26' '2023-09-13' '2023-05-23' '2023-08-24' '2023-04-01'\n",
      " '2023-06-09' '2023-08-23' '2023-08-08' '2023-08-27' '2023-05-26'\n",
      " '2023-06-16' '2023-12-25' '2023-01-25' '2023-10-23' '2023-05-06'\n",
      " '2023-01-29' '2023-08-29' '2023-01-01' '2023-07-24' '2023-04-12'\n",
      " '2023-12-18' '2023-09-21' '2023-05-01' '2023-02-05' '2023-01-24'\n",
      " '2023-01-02' '2023-06-12' '2023-01-16' '2023-10-17' '2023-03-04'\n",
      " '2023-06-17' '2023-03-18' '2023-08-26' '2023-05-17' '2023-11-22'\n",
      " '2023-08-17' '2023-11-19' '2023-11-27' '2023-06-04' '2023-09-17'\n",
      " '2023-11-04' '2023-11-28' '2023-06-25' '2023-04-13' '2023-01-26'\n",
      " '2023-08-04' '2023-05-08' '2023-11-20' '2023-07-13' '2023-09-24'\n",
      " '2023-01-21' '2023-03-08' '2023-09-07' '2023-11-30' '2023-08-02'\n",
      " '2023-04-05' '2023-08-01' '2023-01-20' '2023-11-11' '2023-02-13'\n",
      " '2023-07-30' '2023-02-17' '2023-05-20' '2023-11-05' '2023-03-27'\n",
      " '2023-07-03'] unique values.\n",
      "\n",
      "Updated column Transaction Date has ['2023-09-08' '2023-05-16' '2023-07-19' '2023-04-27' '2023-06-11'\n",
      " '2023-03-31' '2023-10-06' '2023-10-28' '2023-07-28' '2023-12-31'\n",
      " '2023-11-07' 'Unknown' '2023-05-03' '2023-06-01' '2023-03-21'\n",
      " '2023-11-15' '2023-06-10' '2023-02-24' '2023-03-25' '2023-01-15'\n",
      " '2023-04-04' '2023-03-30' '2023-12-01' '2023-09-18' '2023-06-03'\n",
      " '2023-12-13' '2023-04-20' '2023-04-10' '2023-03-11' '2023-06-02'\n",
      " '2023-11-06' '2023-08-15' '2023-10-09' '2023-05-28' '2023-07-17'\n",
      " '2023-04-29' '2023-06-08' '2023-06-29' '2023-04-17' '2023-12-22'\n",
      " '2023-01-10' '2023-10-02' '2023-02-23' '2023-03-22' '2023-11-03'\n",
      " '2023-03-02' '2023-06-26' '2023-05-02' '2023-09-05' '2023-01-08'\n",
      " '2023-03-15' '2023-11-25' '2023-12-05' '2023-03-19' '2023-06-27'\n",
      " '2023-04-19' '2023-10-07' '2023-09-30' '2023-05-27' '2023-11-18'\n",
      " '2023-10-20' '2023-10-03' '2023-10-27' '2023-04-06' '2023-01-31'\n",
      " '2023-12-08' '2023-06-19' '2023-12-14' '2023-07-16' '2023-02-22'\n",
      " '2023-06-15' '2023-12-09' '2023-04-18' '2023-10-29' '2023-04-30'\n",
      " '2023-04-02' '2023-05-24' '2023-03-12' '2023-08-16' '2023-09-10'\n",
      " '2023-03-07' '2023-08-07' '2023-08-20' '2023-04-15' '2023-07-25'\n",
      " '2023-10-30' '2023-12-15' '2023-02-25' '2023-04-03' '2023-10-08'\n",
      " '2023-12-28' '2023-08-30' '2023-02-03' '2023-09-12' '2023-05-04'\n",
      " '2023-02-21' '2023-03-16' '2023-02-06' '2023-03-29' '2023-06-18'\n",
      " '2023-09-23' '2023-01-14' '2023-09-14' '2023-09-16' '2023-04-08'\n",
      " '2023-12-19' '2023-07-14' '2023-12-12' '2023-01-05' '2023-01-23'\n",
      " '2023-02-20' '2023-12-06' '2023-05-31' '2023-08-11' '2023-09-03'\n",
      " '2023-07-11' '2023-06-06' '2023-01-18' '2023-03-23' '2023-01-04'\n",
      " '2023-06-23' '2023-08-03' '2023-07-12' '2023-11-02' '2023-07-31'\n",
      " '2023-09-19' '2023-02-09' '2023-09-04' '2023-05-21' '2023-07-02'\n",
      " '2023-07-10' '2023-11-21' '2023-12-02' '2023-03-13' '2023-08-12'\n",
      " '2023-02-16' '2023-04-11' '2023-03-26' '2023-11-01' '2023-07-22'\n",
      " '2023-07-26' '2023-02-28' '2023-01-27' '2023-01-19' '2023-04-07'\n",
      " '2023-03-20' '2023-12-27' '2023-10-26' '2023-02-18' '2023-05-15'\n",
      " '2023-12-10' '2023-04-21' '2023-02-04' '2023-11-12' '2023-08-05'\n",
      " '2023-05-10' '2023-07-15' '2023-01-11' '2023-10-01' '2023-04-26'\n",
      " '2023-08-25' '2023-03-01' '2023-11-13' '2023-07-09' '2023-05-13'\n",
      " '2023-05-18' '2023-01-17' '2023-09-22' '2023-08-22' '2023-07-27'\n",
      " '2023-12-30' '2023-12-21' '2023-09-28' '2023-11-16' '2023-04-14'\n",
      " '2023-01-03' '2023-01-12' '2023-08-31' '2023-07-07' '2023-09-15'\n",
      " '2023-10-21' '2023-09-02' '2023-08-19' '2023-01-06' '2023-10-13'\n",
      " '2023-05-29' '2023-05-22' '2023-11-23' '2023-10-15' '2023-11-14'\n",
      " '2023-11-26' '2023-12-17' '2023-05-09' '2023-10-22' '2023-06-30'\n",
      " '2023-04-25' '2023-02-19' '2023-12-11' '2023-10-12' '2023-07-04'\n",
      " '2023-01-28' '2023-10-04' '2023-02-26' '2023-10-11' '2023-02-14'\n",
      " '2023-04-28' '2023-09-06' '2023-04-23' '2023-01-22' '2023-03-10'\n",
      " '2023-01-09' '2023-12-03' '2023-08-06' '2023-12-29' '2023-02-15'\n",
      " '2023-05-25' '2023-10-31' '2023-02-27' '2023-03-03' '2023-09-27'\n",
      " '2023-08-18' '2023-12-16' '2023-06-07' '2023-05-12' '2023-07-06'\n",
      " '2023-06-20' '2023-08-09' '2023-05-14' '2023-07-18' '2023-10-10'\n",
      " '2023-02-02' '2023-08-14' '2023-09-26' '2023-01-13' '2023-10-16'\n",
      " '2023-11-17' '2023-12-20' '2023-12-04' '2023-02-08' '2023-09-11'\n",
      " '2023-02-01' '2023-02-12' '2023-03-14' '2023-09-29' '2023-04-22'\n",
      " '2023-06-13' '2023-12-24' '2023-03-28' '2023-03-06' '2023-02-11'\n",
      " '2023-01-30' '2023-04-09' '2023-04-16' '2023-12-23' '2023-03-05'\n",
      " '2023-03-24' '2023-07-23' '2023-07-29' '2023-06-05' '2023-10-19'\n",
      " '2023-01-07' '2023-11-29' '2023-07-05' '2023-07-20' '2023-05-07'\n",
      " '2023-08-10' '2023-10-24' '2023-08-13' '2023-08-28' '2023-06-21'\n",
      " '2023-11-10' '2023-10-18' '2023-05-19' '2023-11-09' '2023-06-24'\n",
      " '2023-05-11' '2023-12-07' '2023-09-01' '2023-09-25' '2023-06-22'\n",
      " '2023-05-30' '2023-04-24' '2023-09-20' '2023-02-07' '2023-05-05'\n",
      " '2023-02-10' '2023-11-24' '2023-10-25' '2023-10-05' '2023-07-21'\n",
      " '2023-07-08' '2023-03-17' '2023-10-14' '2023-06-28' '2023-09-09'\n",
      " '2023-08-21' '2023-07-01' '2023-06-14' '2023-03-09' '2023-11-08'\n",
      " '2023-12-26' '2023-09-13' '2023-05-23' '2023-08-24' '2023-04-01'\n",
      " '2023-06-09' '2023-08-23' '2023-08-08' '2023-08-27' '2023-05-26'\n",
      " '2023-06-16' '2023-12-25' '2023-01-25' '2023-10-23' '2023-05-06'\n",
      " '2023-01-29' '2023-08-29' '2023-01-01' '2023-07-24' '2023-04-12'\n",
      " '2023-12-18' '2023-09-21' '2023-05-01' '2023-02-05' '2023-01-24'\n",
      " '2023-01-02' '2023-06-12' '2023-01-16' '2023-10-17' '2023-03-04'\n",
      " '2023-06-17' '2023-03-18' '2023-08-26' '2023-05-17' '2023-11-22'\n",
      " '2023-08-17' '2023-11-19' '2023-11-27' '2023-06-04' '2023-09-17'\n",
      " '2023-11-04' '2023-11-28' '2023-06-25' '2023-04-13' '2023-01-26'\n",
      " '2023-08-04' '2023-05-08' '2023-11-20' '2023-07-13' '2023-09-24'\n",
      " '2023-01-21' '2023-03-08' '2023-09-07' '2023-11-30' '2023-08-02'\n",
      " '2023-04-05' '2023-08-01' '2023-01-20' '2023-11-11' '2023-02-13'\n",
      " '2023-07-30' '2023-02-17' '2023-05-20' '2023-11-05' '2023-03-27'\n",
      " '2023-07-03'] unique values.\n",
      "------------------------------------------------------------------------------------------------------------------------------------------------------\n"
     ]
    }
   ],
   "source": [
    "categorical_missing_values_columns = [\"Item\", \"Payment Method\", \"Location\", \"Transaction Date\"]\n",
    "\n",
    "for column in categorical_missing_values_columns:\n",
    "    print(f\"Column {column} has {df[column].unique()} unique values.\\n\")\n",
    "    df[column] = df[column].astype(str).str.strip().str.title()\n",
    "    df[column] = df[column].replace([\"Nan\", \"Error\"], \"Unknown\")\n",
    "    print(f\"Updated column {column} has {df[column].unique()} unique values.\")\n",
    "    print(\"-\" * 150)\n"
   ]
  },
  {
   "cell_type": "markdown",
   "id": "c73444a9",
   "metadata": {},
   "source": [
    "## numerical columns missing values"
   ]
  },
  {
   "cell_type": "code",
   "execution_count": 11,
   "id": "7817d3be",
   "metadata": {},
   "outputs": [
    {
     "name": "stdout",
     "output_type": "stream",
     "text": [
      "Column Quantity has [ 2.  4.  5.  3.  1. nan] unique values.\n",
      "\n",
      "Updated column Quantity has [2.        4.        5.        3.        1.        3.0284634] unique values.\n",
      "------------------------------------------------------------------------------------------------------------------------------------------------------\n",
      "Column Price Per Unit has [2.  3.  1.  5.  4.  1.5 nan] unique values.\n",
      "\n",
      "Updated column Price Per Unit has [2.         3.         1.         5.         4.         1.5\n",
      " 2.94998416] unique values.\n",
      "------------------------------------------------------------------------------------------------------------------------------------------------------\n",
      "Column Total Spent has [ 4.  12.   nan 10.  20.   9.  16.  15.  25.   8.   5.   3.   6.   2.\n",
      "  1.   7.5  4.5  1.5] unique values.\n",
      "\n",
      "Updated column Total Spent has [ 4.        12.         8.9243525 10.        20.         9.\n",
      " 16.        15.        25.         8.         5.         3.\n",
      "  6.         2.         1.         7.5        4.5        1.5      ] unique values.\n",
      "------------------------------------------------------------------------------------------------------------------------------------------------------\n"
     ]
    }
   ],
   "source": [
    "# Numerical columns with missing values\n",
    "numerical_missing_values_columns = [\"Quantity\", \"Price Per Unit\", \"Total Spent\"]\n",
    "\n",
    "# Calculate means of those columns (transform non-numeric values to NaN)\n",
    "numerical_columns_means = {}\n",
    "for column in numerical_missing_values_columns:\n",
    "    df[column] = pd.to_numeric(df[column], errors=\"coerce\")\n",
    "    numerical_columns_means[column] = df[column].mean()\n",
    "\n",
    "# Fill missing values (NaNs) with column mean\n",
    "for column in numerical_columns_means:\n",
    "    print(f\"Column {column} has {df[column].unique()} unique values.\\n\")\n",
    "    df[column] = df[column].fillna(numerical_columns_means[column])\n",
    "    print(f\"Updated column {column} has {df[column].unique()} unique values.\")\n",
    "    print(\"-\" * 150)"
   ]
  },
  {
   "cell_type": "code",
   "execution_count": 14,
   "id": "121eac03",
   "metadata": {},
   "outputs": [
    {
     "name": "stdout",
     "output_type": "stream",
     "text": [
      "Column Quantity has [2 4 5 3 1] unique values.\n",
      "\n",
      "------------------------------------------------------------------------------------------------------------------------------------------------------\n",
      "Column Price Per Unit has [2.   3.   1.   5.   4.   1.5  2.95] unique values.\n",
      "\n",
      "------------------------------------------------------------------------------------------------------------------------------------------------------\n",
      "Column Total Spent has [ 4.   12.    8.92 10.   20.    9.   16.   15.   25.    8.    5.    3.\n",
      "  6.    2.    1.    7.5   4.5   1.5 ] unique values.\n",
      "\n",
      "------------------------------------------------------------------------------------------------------------------------------------------------------\n"
     ]
    }
   ],
   "source": [
    "# Transform \"Quantity\" to int, rounding-up \"Price Per Unit\" and \"Total Spent\" to 2 decimals\n",
    "df[\"Quantity\"] = df[\"Quantity\"].round().astype(int)\n",
    "\n",
    "df[\"Price Per Unit\"] = df[\"Price Per Unit\"].round(2)\n",
    "df[\"Total Spent\"] = df[\"Total Spent\"].round(2)\n",
    "\n",
    "# Checking\n",
    "for column in numerical_columns_means:\n",
    "    print(f\"Column {column} has {df[column].unique()} unique values.\\n\")\n",
    "    print(\"-\" * 150)"
   ]
  },
  {
   "cell_type": "code",
   "execution_count": 15,
   "id": "2f926138",
   "metadata": {},
   "outputs": [
    {
     "data": {
      "text/plain": [
       "Transaction ID      0\n",
       "Item                0\n",
       "Quantity            0\n",
       "Price Per Unit      0\n",
       "Total Spent         0\n",
       "Payment Method      0\n",
       "Location            0\n",
       "Transaction Date    0\n",
       "dtype: int64"
      ]
     },
     "execution_count": 15,
     "metadata": {},
     "output_type": "execute_result"
    }
   ],
   "source": [
    "df.isna().sum()"
   ]
  },
  {
   "cell_type": "markdown",
   "id": "9547ee1a",
   "metadata": {},
   "source": [
    "# Data Viz"
   ]
  },
  {
   "cell_type": "markdown",
   "id": "abf80a14",
   "metadata": {},
   "source": [
    "# Products sold per quantity"
   ]
  },
  {
   "cell_type": "code",
   "execution_count": 50,
   "id": "534215f8",
   "metadata": {},
   "outputs": [
    {
     "data": {
      "image/png": "[encoded data removed]",
      "text/plain": [
       "<Figure size 1200x1200 with 1 Axes>"
      ]
     },
     "metadata": {},
     "output_type": "display_data"
    }
   ],
   "source": [
    "plt.figure(figsize=(12, 12))\n",
    "sns.countplot(data=df,\n",
    "            x=\"Quantity\",\n",
    "            hue=\"Item\",\n",
    "            palette=\"vlag\",\n",
    "            stat=\"count\")\n",
    "plt.title(\"Products sold per quantity\")\n",
    "plt.legend(loc=\"upper left\")\n",
    "plt.ylabel(\"Total sold\")\n",
    "plt.tight_layout()"
   ]
  },
  {
   "cell_type": "markdown",
   "id": "f998a3e8",
   "metadata": {},
   "source": [
    "## products sold per quantity per location"
   ]
  },
  {
   "cell_type": "code",
   "execution_count": 31,
   "id": "7a29fde7",
   "metadata": {},
   "outputs": [
    {
     "data": {
      "text/plain": [
       "Text(0, 0.5, 'Total sold')"
      ]
     },
     "execution_count": 31,
     "metadata": {},
     "output_type": "execute_result"
    },
    {
     "data": {
      "image/png": "[encoded data removed]",
      "text/plain": [
       "<Figure size 1600x800 with 1 Axes>"
      ]
     },
     "metadata": {},
     "output_type": "display_data"
    }
   ],
   "source": [
    "plt.figure(figsize=(16, 8))\n",
    "sns.countplot(data=df,\n",
    "            x=\"Quantity\",\n",
    "            hue=\"Location\",\n",
    "            palette=\"viridis\",\n",
    "            stat=\"count\")\n",
    "plt.title(\"Products sold per quantity per location\")\n",
    "plt.ylabel(\"Total sold\")"
   ]
  }
 ],
 "metadata": {
  "kernelspec": {
   "display_name": "Python 3",
   "language": "python",
   "name": "python3"
  },
  "language_info": {
   "codemirror_mode": {
    "name": "ipython",
    "version": 3
   },
   "file_extension": ".py",
   "mimetype": "text/x-python",
   "name": "python",
   "nbconvert_exporter": "python",
   "pygments_lexer": "ipython3",
   "version": "3.12.6"
  }
 },
 "nbformat": 4,
 "nbformat_minor": 5
}
